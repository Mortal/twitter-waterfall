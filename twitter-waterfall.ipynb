{
 "cells": [
  {
   "cell_type": "code",
   "execution_count": 1,
   "metadata": {
    "collapsed": true
   },
   "outputs": [],
   "source": [
    "%matplotlib inline\n",
    "\n",
    "import matplotlib.pyplot as plt\n",
    "import matplotlib.patches as mp\n",
    "\n",
    "def plot_heights(heights, color='0.4'):\n",
    "    axes = plt.gca()\n",
    "    plt.axis('equal')\n",
    "    for i, h in enumerate(heights):\n",
    "        mp.Polygon\n",
    "        axes.add_patch(mp.Polygon([(i, 0), (i+1, 0), (i+1, h), (i, h)],\n",
    "                                  color=color, ec='white'))\n",
    "        for j in range(1, h):\n",
    "            plt.plot((i, i+1), (j, j), 'w')"
   ]
  },
  {
   "cell_type": "code",
   "execution_count": 2,
   "metadata": {},
   "outputs": [
    {
     "data": {
      "image/png": "[encoded data removed]",
      "text/plain": [
       "<matplotlib.figure.Figure at 0x7fe8dc5ba9b0>"
      ]
     },
     "metadata": {},
     "output_type": "display_data"
    }
   ],
   "source": [
    "wall = [2, 5, 1, 2, 3, 4, 7, 7, 6]\n",
    "plot_heights(wall)"
   ]
  },
  {
   "cell_type": "code",
   "execution_count": 3,
   "metadata": {},
   "outputs": [
    {
     "data": {
      "text/plain": [
       "[2, 5, 5, 5, 5, 5, 7, 7, 7]"
      ]
     },
     "execution_count": 3,
     "metadata": {},
     "output_type": "execute_result"
    }
   ],
   "source": [
    "def max_to_the_left(sequence):\n",
    "    m = sequence[0]\n",
    "    for n in sequence:\n",
    "        m = max(m, n)\n",
    "        yield m\n",
    "\n",
    "list(max_to_the_left(wall))"
   ]
  },
  {
   "cell_type": "code",
   "execution_count": 4,
   "metadata": {},
   "outputs": [
    {
     "data": {
      "text/plain": [
       "[7, 7, 7, 7, 7, 7, 7, 7, 6]"
      ]
     },
     "execution_count": 4,
     "metadata": {},
     "output_type": "execute_result"
    }
   ],
   "source": [
    "def max_to_the_right(sequence):\n",
    "    return reversed(list(max_to_the_left(list(reversed(sequence)))))\n",
    "\n",
    "list(max_to_the_right(wall))"
   ]
  },
  {
   "cell_type": "code",
   "execution_count": 5,
   "metadata": {},
   "outputs": [
    {
     "name": "stdout",
     "output_type": "stream",
     "text": [
      "heights = [2, 5, 5, 5, 5, 5, 7, 7, 6]\n"
     ]
    },
    {
     "data": {
      "image/png": "[encoded data removed]",
      "text/plain": [
       "<matplotlib.figure.Figure at 0x7fe8bc5af0f0>"
      ]
     },
     "metadata": {},
     "output_type": "display_data"
    }
   ],
   "source": [
    "heights = list(map(min, zip(max_to_the_left(wall), max_to_the_right(wall))))\n",
    "print('heights =', heights)\n",
    "plot_heights(heights, 'b')\n",
    "plot_heights(wall)"
   ]
  },
  {
   "cell_type": "code",
   "execution_count": 6,
   "metadata": {},
   "outputs": [
    {
     "data": {
      "text/plain": [
       "[0, 0, 4, 3, 2, 1, 0, 0, 0]"
      ]
     },
     "execution_count": 6,
     "metadata": {},
     "output_type": "execute_result"
    }
   ],
   "source": [
    "depths = [h - w for h, w in zip(heights, wall)]\n",
    "depths"
   ]
  }
 ],
 "metadata": {
  "kernelspec": {
   "display_name": "Python 3",
   "language": "python",
   "name": "python3"
  },
  "language_info": {
   "codemirror_mode": {
    "name": "ipython",
    "version": 3
   },
   "file_extension": ".py",
   "mimetype": "text/x-python",
   "name": "python",
   "nbconvert_exporter": "python",
   "pygments_lexer": "ipython3",
   "version": "3.6.2"
  }
 },
 "nbformat": 4,
 "nbformat_minor": 2
}
